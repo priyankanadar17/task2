{
 "cells": [
  {
   "cell_type": "code",
   "execution_count": 45,
   "metadata": {
    "colab": {},
    "colab_type": "code",
    "id": "U2b2uhbeqVBl"
   },
   "outputs": [],
   "source": [
    "import pandas as pd"
   ]
  },
  {
   "cell_type": "code",
   "execution_count": 46,
   "metadata": {
    "colab": {},
    "colab_type": "code",
    "id": "D0PzV7CXsPsw"
   },
   "outputs": [],
   "source": [
    "s=pd.read_csv(\"cons.csv\")\n",
    "p=pd.read_csv(\"validation.csv\")  #reading both datasets"
   ]
  },
  {
   "cell_type": "markdown",
   "metadata": {},
   "source": [
    "dropping title as contents of title and reviews.txt means the same"
   ]
  },
  {
   "cell_type": "code",
   "execution_count": 47,
   "metadata": {
    "colab": {
     "base_uri": "https://localhost:8080/",
     "height": 1000
    },
    "colab_type": "code",
    "id": "Gu_w3N8Ustmd",
    "outputId": "6984c786-dd3b-4475-c697-dc087d517a70"
   },
   "outputs": [
    {
     "data": {
      "text/html": [
       "<div>\n",
       "<style scoped>\n",
       "    .dataframe tbody tr th:only-of-type {\n",
       "        vertical-align: middle;\n",
       "    }\n",
       "\n",
       "    .dataframe tbody tr th {\n",
       "        vertical-align: top;\n",
       "    }\n",
       "\n",
       "    .dataframe thead th {\n",
       "        text-align: right;\n",
       "    }\n",
       "</style>\n",
       "<table border=\"1\" class=\"dataframe\">\n",
       "  <thead>\n",
       "    <tr style=\"text-align: right;\">\n",
       "      <th></th>\n",
       "      <th>reviews.rating</th>\n",
       "      <th>reviews.text</th>\n",
       "    </tr>\n",
       "  </thead>\n",
       "  <tbody>\n",
       "    <tr>\n",
       "      <th>0</th>\n",
       "      <td>5.0</td>\n",
       "      <td>I realize that many people will believe that t...</td>\n",
       "    </tr>\n",
       "    <tr>\n",
       "      <th>1</th>\n",
       "      <td>5.0</td>\n",
       "      <td>Great tablet from Amazon! I works quickly and ...</td>\n",
       "    </tr>\n",
       "    <tr>\n",
       "      <th>2</th>\n",
       "      <td>5.0</td>\n",
       "      <td>This is my very first kindle. I am enjoying re...</td>\n",
       "    </tr>\n",
       "    <tr>\n",
       "      <th>3</th>\n",
       "      <td>5.0</td>\n",
       "      <td>Small and light weight. Even in a leather case...</td>\n",
       "    </tr>\n",
       "    <tr>\n",
       "      <th>4</th>\n",
       "      <td>5.0</td>\n",
       "      <td>Easy to use for books and audio. Will use on v...</td>\n",
       "    </tr>\n",
       "    <tr>\n",
       "      <th>5</th>\n",
       "      <td>5.0</td>\n",
       "      <td>Works as it should, this was a replacement of ...</td>\n",
       "    </tr>\n",
       "    <tr>\n",
       "      <th>6</th>\n",
       "      <td>2.0</td>\n",
       "      <td>Hard to use, Lots of ads, and Randomly closes ...</td>\n",
       "    </tr>\n",
       "    <tr>\n",
       "      <th>7</th>\n",
       "      <td>3.0</td>\n",
       "      <td>I'm mostly happy, but like so many electronics...</td>\n",
       "    </tr>\n",
       "    <tr>\n",
       "      <th>8</th>\n",
       "      <td>3.0</td>\n",
       "      <td>After the initial trial questions found our Al...</td>\n",
       "    </tr>\n",
       "    <tr>\n",
       "      <th>9</th>\n",
       "      <td>5.0</td>\n",
       "      <td>I brought 3 of them. 2 were gifts. We love the...</td>\n",
       "    </tr>\n",
       "    <tr>\n",
       "      <th>10</th>\n",
       "      <td>5.0</td>\n",
       "      <td>Nice little tablet and the price was perfect. ...</td>\n",
       "    </tr>\n",
       "    <tr>\n",
       "      <th>11</th>\n",
       "      <td>5.0</td>\n",
       "      <td>Love the echo! Great voice recognition and ver...</td>\n",
       "    </tr>\n",
       "    <tr>\n",
       "      <th>12</th>\n",
       "      <td>4.0</td>\n",
       "      <td>Amazon fire connected with Overdrive,Kindle an...</td>\n",
       "    </tr>\n",
       "    <tr>\n",
       "      <th>13</th>\n",
       "      <td>4.0</td>\n",
       "      <td>Works great, good value. Only problem is displ...</td>\n",
       "    </tr>\n",
       "    <tr>\n",
       "      <th>14</th>\n",
       "      <td>5.0</td>\n",
       "      <td>This was the perfect tablet for my wife for Ch...</td>\n",
       "    </tr>\n",
       "    <tr>\n",
       "      <th>15</th>\n",
       "      <td>5.0</td>\n",
       "      <td>love this tablet, I would so recommend this fo...</td>\n",
       "    </tr>\n",
       "    <tr>\n",
       "      <th>16</th>\n",
       "      <td>5.0</td>\n",
       "      <td>Works great and constantly updated and improvi...</td>\n",
       "    </tr>\n",
       "    <tr>\n",
       "      <th>17</th>\n",
       "      <td>4.0</td>\n",
       "      <td>Light weight is great. Screen is a little too ...</td>\n",
       "    </tr>\n",
       "    <tr>\n",
       "      <th>18</th>\n",
       "      <td>5.0</td>\n",
       "      <td>Went in for the firetvstick but left with this...</td>\n",
       "    </tr>\n",
       "    <tr>\n",
       "      <th>19</th>\n",
       "      <td>5.0</td>\n",
       "      <td>Second generation Kindle finally died, and alr...</td>\n",
       "    </tr>\n",
       "    <tr>\n",
       "      <th>20</th>\n",
       "      <td>3.0</td>\n",
       "      <td>Nice sound quality and connects to my iPhone. ...</td>\n",
       "    </tr>\n",
       "    <tr>\n",
       "      <th>21</th>\n",
       "      <td>5.0</td>\n",
       "      <td>I can lock the screen so he can't mess anythin...</td>\n",
       "    </tr>\n",
       "    <tr>\n",
       "      <th>22</th>\n",
       "      <td>5.0</td>\n",
       "      <td>I bought this for a family member with a disab...</td>\n",
       "    </tr>\n",
       "    <tr>\n",
       "      <th>23</th>\n",
       "      <td>4.0</td>\n",
       "      <td>Great for cord cutting. Just needs a little cl...</td>\n",
       "    </tr>\n",
       "    <tr>\n",
       "      <th>24</th>\n",
       "      <td>5.0</td>\n",
       "      <td>Highly impressed with my purchase. Allows me t...</td>\n",
       "    </tr>\n",
       "    <tr>\n",
       "      <th>25</th>\n",
       "      <td>5.0</td>\n",
       "      <td>Love this device for reading. I travel for a l...</td>\n",
       "    </tr>\n",
       "    <tr>\n",
       "      <th>26</th>\n",
       "      <td>4.0</td>\n",
       "      <td>Compact, Fast, Reliable .... Very GoodI am not...</td>\n",
       "    </tr>\n",
       "    <tr>\n",
       "      <th>27</th>\n",
       "      <td>5.0</td>\n",
       "      <td>I love the echo as you can do many cool things...</td>\n",
       "    </tr>\n",
       "    <tr>\n",
       "      <th>28</th>\n",
       "      <td>5.0</td>\n",
       "      <td>The Kindle Fire is a great tablet for the pric...</td>\n",
       "    </tr>\n",
       "    <tr>\n",
       "      <th>29</th>\n",
       "      <td>5.0</td>\n",
       "      <td>Excellent alternative to paying the big compan...</td>\n",
       "    </tr>\n",
       "    <tr>\n",
       "      <th>...</th>\n",
       "      <td>...</td>\n",
       "      <td>...</td>\n",
       "    </tr>\n",
       "    <tr>\n",
       "      <th>19970</th>\n",
       "      <td>4.0</td>\n",
       "      <td>Functions as its supposed to good deal. Great ...</td>\n",
       "    </tr>\n",
       "    <tr>\n",
       "      <th>19971</th>\n",
       "      <td>3.0</td>\n",
       "      <td>Should of did a little more research. Do not l...</td>\n",
       "    </tr>\n",
       "    <tr>\n",
       "      <th>19972</th>\n",
       "      <td>5.0</td>\n",
       "      <td>This is my second Amazon Fire TV. This is the ...</td>\n",
       "    </tr>\n",
       "    <tr>\n",
       "      <th>19973</th>\n",
       "      <td>5.0</td>\n",
       "      <td>We love the shopping list feature. The timer i...</td>\n",
       "    </tr>\n",
       "    <tr>\n",
       "      <th>19974</th>\n",
       "      <td>5.0</td>\n",
       "      <td>I have 2 firestick and now the fire tv..i have...</td>\n",
       "    </tr>\n",
       "    <tr>\n",
       "      <th>19975</th>\n",
       "      <td>5.0</td>\n",
       "      <td>I bought this as a gift for my wife along with...</td>\n",
       "    </tr>\n",
       "    <tr>\n",
       "      <th>19976</th>\n",
       "      <td>5.0</td>\n",
       "      <td>Works very well for children and people of all...</td>\n",
       "    </tr>\n",
       "    <tr>\n",
       "      <th>19977</th>\n",
       "      <td>5.0</td>\n",
       "      <td>Friends were pleased with gift will be buying ...</td>\n",
       "    </tr>\n",
       "    <tr>\n",
       "      <th>19978</th>\n",
       "      <td>5.0</td>\n",
       "      <td>this was such a super deal i bought 2. they wo...</td>\n",
       "    </tr>\n",
       "    <tr>\n",
       "      <th>19979</th>\n",
       "      <td>4.0</td>\n",
       "      <td>I originally bought this tablet for myself. Bu...</td>\n",
       "    </tr>\n",
       "    <tr>\n",
       "      <th>19980</th>\n",
       "      <td>4.0</td>\n",
       "      <td>Good tablet for the price, it's gonna be a goo...</td>\n",
       "    </tr>\n",
       "    <tr>\n",
       "      <th>19981</th>\n",
       "      <td>4.0</td>\n",
       "      <td>i can allow kids what i want them to read or p...</td>\n",
       "    </tr>\n",
       "    <tr>\n",
       "      <th>19982</th>\n",
       "      <td>5.0</td>\n",
       "      <td>I bought it for my grand daughter, she knew ho...</td>\n",
       "    </tr>\n",
       "    <tr>\n",
       "      <th>19983</th>\n",
       "      <td>5.0</td>\n",
       "      <td>Really loving the Fitbit Blaze so far. It remi...</td>\n",
       "    </tr>\n",
       "    <tr>\n",
       "      <th>19984</th>\n",
       "      <td>4.0</td>\n",
       "      <td>This is great tablet for reading purpose. Easy...</td>\n",
       "    </tr>\n",
       "    <tr>\n",
       "      <th>19985</th>\n",
       "      <td>5.0</td>\n",
       "      <td>One my favorite color ..................:.::::...</td>\n",
       "    </tr>\n",
       "    <tr>\n",
       "      <th>19986</th>\n",
       "      <td>5.0</td>\n",
       "      <td>I have several of the fire sticks. This is fas...</td>\n",
       "    </tr>\n",
       "    <tr>\n",
       "      <th>19987</th>\n",
       "      <td>5.0</td>\n",
       "      <td>Got this item for my 10 yr old son , easy to n...</td>\n",
       "    </tr>\n",
       "    <tr>\n",
       "      <th>19988</th>\n",
       "      <td>5.0</td>\n",
       "      <td>This tablet is inexpensive and user friendly f...</td>\n",
       "    </tr>\n",
       "    <tr>\n",
       "      <th>19989</th>\n",
       "      <td>4.0</td>\n",
       "      <td>Very cool. NOTE: much cooler if you have amazo...</td>\n",
       "    </tr>\n",
       "    <tr>\n",
       "      <th>19990</th>\n",
       "      <td>5.0</td>\n",
       "      <td>Bought this for my mom. She mostly plays games...</td>\n",
       "    </tr>\n",
       "    <tr>\n",
       "      <th>19991</th>\n",
       "      <td>5.0</td>\n",
       "      <td>Amazon has this one perfect. The backlight mak...</td>\n",
       "    </tr>\n",
       "    <tr>\n",
       "      <th>19992</th>\n",
       "      <td>5.0</td>\n",
       "      <td>It is a very good product with great quality. ...</td>\n",
       "    </tr>\n",
       "    <tr>\n",
       "      <th>19993</th>\n",
       "      <td>5.0</td>\n",
       "      <td>I really am enjoying the echo, it seems like I...</td>\n",
       "    </tr>\n",
       "    <tr>\n",
       "      <th>19994</th>\n",
       "      <td>5.0</td>\n",
       "      <td>I bought 2 of these for my niece &amp; nephew! The...</td>\n",
       "    </tr>\n",
       "    <tr>\n",
       "      <th>19995</th>\n",
       "      <td>5.0</td>\n",
       "      <td>Entertainment or the quiet times you love. Per...</td>\n",
       "    </tr>\n",
       "    <tr>\n",
       "      <th>19996</th>\n",
       "      <td>4.0</td>\n",
       "      <td>Great little tablet, especially for the price!...</td>\n",
       "    </tr>\n",
       "    <tr>\n",
       "      <th>19997</th>\n",
       "      <td>4.0</td>\n",
       "      <td>Very happy customer. My daughter loves using t...</td>\n",
       "    </tr>\n",
       "    <tr>\n",
       "      <th>19998</th>\n",
       "      <td>5.0</td>\n",
       "      <td>Bought for my 9 yr old. He loves it. Easy to u...</td>\n",
       "    </tr>\n",
       "    <tr>\n",
       "      <th>19999</th>\n",
       "      <td>5.0</td>\n",
       "      <td>much faster than previous model, screen is sup...</td>\n",
       "    </tr>\n",
       "  </tbody>\n",
       "</table>\n",
       "<p>20000 rows × 2 columns</p>\n",
       "</div>"
      ],
      "text/plain": [
       "       reviews.rating                                       reviews.text\n",
       "0                 5.0  I realize that many people will believe that t...\n",
       "1                 5.0  Great tablet from Amazon! I works quickly and ...\n",
       "2                 5.0  This is my very first kindle. I am enjoying re...\n",
       "3                 5.0  Small and light weight. Even in a leather case...\n",
       "4                 5.0  Easy to use for books and audio. Will use on v...\n",
       "5                 5.0  Works as it should, this was a replacement of ...\n",
       "6                 2.0  Hard to use, Lots of ads, and Randomly closes ...\n",
       "7                 3.0  I'm mostly happy, but like so many electronics...\n",
       "8                 3.0  After the initial trial questions found our Al...\n",
       "9                 5.0  I brought 3 of them. 2 were gifts. We love the...\n",
       "10                5.0  Nice little tablet and the price was perfect. ...\n",
       "11                5.0  Love the echo! Great voice recognition and ver...\n",
       "12                4.0  Amazon fire connected with Overdrive,Kindle an...\n",
       "13                4.0  Works great, good value. Only problem is displ...\n",
       "14                5.0  This was the perfect tablet for my wife for Ch...\n",
       "15                5.0  love this tablet, I would so recommend this fo...\n",
       "16                5.0  Works great and constantly updated and improvi...\n",
       "17                4.0  Light weight is great. Screen is a little too ...\n",
       "18                5.0  Went in for the firetvstick but left with this...\n",
       "19                5.0  Second generation Kindle finally died, and alr...\n",
       "20                3.0  Nice sound quality and connects to my iPhone. ...\n",
       "21                5.0  I can lock the screen so he can't mess anythin...\n",
       "22                5.0  I bought this for a family member with a disab...\n",
       "23                4.0  Great for cord cutting. Just needs a little cl...\n",
       "24                5.0  Highly impressed with my purchase. Allows me t...\n",
       "25                5.0  Love this device for reading. I travel for a l...\n",
       "26                4.0  Compact, Fast, Reliable .... Very GoodI am not...\n",
       "27                5.0  I love the echo as you can do many cool things...\n",
       "28                5.0  The Kindle Fire is a great tablet for the pric...\n",
       "29                5.0  Excellent alternative to paying the big compan...\n",
       "...               ...                                                ...\n",
       "19970             4.0  Functions as its supposed to good deal. Great ...\n",
       "19971             3.0  Should of did a little more research. Do not l...\n",
       "19972             5.0  This is my second Amazon Fire TV. This is the ...\n",
       "19973             5.0  We love the shopping list feature. The timer i...\n",
       "19974             5.0  I have 2 firestick and now the fire tv..i have...\n",
       "19975             5.0  I bought this as a gift for my wife along with...\n",
       "19976             5.0  Works very well for children and people of all...\n",
       "19977             5.0  Friends were pleased with gift will be buying ...\n",
       "19978             5.0  this was such a super deal i bought 2. they wo...\n",
       "19979             4.0  I originally bought this tablet for myself. Bu...\n",
       "19980             4.0  Good tablet for the price, it's gonna be a goo...\n",
       "19981             4.0  i can allow kids what i want them to read or p...\n",
       "19982             5.0  I bought it for my grand daughter, she knew ho...\n",
       "19983             5.0  Really loving the Fitbit Blaze so far. It remi...\n",
       "19984             4.0  This is great tablet for reading purpose. Easy...\n",
       "19985             5.0  One my favorite color ..................:.::::...\n",
       "19986             5.0  I have several of the fire sticks. This is fas...\n",
       "19987             5.0  Got this item for my 10 yr old son , easy to n...\n",
       "19988             5.0  This tablet is inexpensive and user friendly f...\n",
       "19989             4.0  Very cool. NOTE: much cooler if you have amazo...\n",
       "19990             5.0  Bought this for my mom. She mostly plays games...\n",
       "19991             5.0  Amazon has this one perfect. The backlight mak...\n",
       "19992             5.0  It is a very good product with great quality. ...\n",
       "19993             5.0  I really am enjoying the echo, it seems like I...\n",
       "19994             5.0  I bought 2 of these for my niece & nephew! The...\n",
       "19995             5.0  Entertainment or the quiet times you love. Per...\n",
       "19996             4.0  Great little tablet, especially for the price!...\n",
       "19997             4.0  Very happy customer. My daughter loves using t...\n",
       "19998             5.0  Bought for my 9 yr old. He loves it. Easy to u...\n",
       "19999             5.0  much faster than previous model, screen is sup...\n",
       "\n",
       "[20000 rows x 2 columns]"
      ]
     },
     "execution_count": 47,
     "metadata": {},
     "output_type": "execute_result"
    }
   ],
   "source": [
    "sp=p.drop([\"reviews.title\"],axis=1)\n",
    "sp"
   ]
  },
  {
   "cell_type": "code",
   "execution_count": 50,
   "metadata": {
    "colab": {},
    "colab_type": "code",
    "id": "anbqR20Wst1V"
   },
   "outputs": [],
   "source": [
    "a=s.drop([\"sub-categories\",\"primary-categories\",\"reviews\"],axis=1)\n",
    "#dropping all unimportant columns for training "
   ]
  },
  {
   "cell_type": "markdown",
   "metadata": {},
   "source": [
    "since the text contains many unwanted things such as nos.,punctuation,tags,alphanumerics,etc. it becomes difficult for machine to get trained,so we remove these properties by using gensim module "
   ]
  },
  {
   "cell_type": "code",
   "execution_count": 51,
   "metadata": {
    "colab": {},
    "colab_type": "code",
    "id": "TZYZnIC2suOS"
   },
   "outputs": [],
   "source": [
    "import gensim\n",
    "from gensim.parsing.preprocessing import strip_numeric \n",
    "from gensim.parsing.preprocessing import strip_non_alphanum\n",
    "from gensim.parsing.preprocessing import strip_punctuation\n",
    "from gensim.parsing.preprocessing import strip_punctuation2\n",
    "from gensim.parsing.preprocessing import strip_multiple_whitespaces\n",
    "from gensim.parsing.preprocessing import strip_tags\n",
    "from gensim.parsing.preprocessing import stem_text\n",
    "from gensim.parsing.preprocessing import preprocess_string"
   ]
  },
  {
   "cell_type": "code",
   "execution_count": null,
   "metadata": {},
   "outputs": [],
   "source": []
  },
  {
   "cell_type": "code",
   "execution_count": 52,
   "metadata": {
    "colab": {},
    "colab_type": "code",
    "id": "qpHG9LHFsuMR"
   },
   "outputs": [],
   "source": [
    "filters=[strip_numeric,strip_multiple_whitespaces,strip_non_alphanum,strip_punctuation,strip_punctuation,strip_punctuation2,strip_tags,stem_text]"
   ]
  },
  {
   "cell_type": "markdown",
   "metadata": {},
   "source": [
    "cleaning the data"
   ]
  },
  {
   "cell_type": "code",
   "execution_count": 53,
   "metadata": {
    "colab": {},
    "colab_type": "code",
    "id": "i77ln7RcsuIJ"
   },
   "outputs": [],
   "source": [
    "def clean(string):\n",
    "  words=preprocess_string(string,filters)\n",
    "  return \" \".join(word.lower() for word in words)"
   ]
  },
  {
   "cell_type": "code",
   "execution_count": 54,
   "metadata": {
    "colab": {},
    "colab_type": "code",
    "id": "RcyLa3x9suEy"
   },
   "outputs": [],
   "source": [
    "cl=[]\n",
    "for i in a[\"title\"]:\n",
    "  cl.append(clean(i))\n",
    "a[\"clean\"]=cl \n",
    "ck=[]\n",
    "for i in sp[\"reviews.text\"]:\n",
    "  ck.append(clean(i))\n",
    "sp[\"clean\"]=ck"
   ]
  },
  {
   "cell_type": "markdown",
   "metadata": {},
   "source": [
    "since analysis for 2 sentiments is being done,we convert rating into 0 and 1,i.e. negative and positive"
   ]
  },
  {
   "cell_type": "code",
   "execution_count": 55,
   "metadata": {
    "colab": {},
    "colab_type": "code",
    "id": "zZ59ihlYsuCh"
   },
   "outputs": [],
   "source": [
    "t=[]\n",
    "for x in sp[\"reviews.rating\"]:\n",
    "    if x==5.0:\n",
    "        t.append(0)\n",
    "    else:\n",
    "        t.append(1)\n",
    "sp[\"reviews.rating\"]=t\n",
    "Ytest=sp[\"reviews.rating\"]"
   ]
  },
  {
   "cell_type": "code",
   "execution_count": 56,
   "metadata": {
    "colab": {},
    "colab_type": "code",
    "id": "eljLhhZ-st_1"
   },
   "outputs": [],
   "source": [
    "gs=a.drop(\"title\",axis=1)"
   ]
  },
  {
   "cell_type": "code",
   "execution_count": 57,
   "metadata": {
    "colab": {
     "base_uri": "https://localhost:8080/",
     "height": 1000
    },
    "colab_type": "code",
    "id": "Wr3tcFUpst9I",
    "outputId": "69c05855-7ff5-4906-a72e-5a2a9ae633c2"
   },
   "outputs": [
    {
     "data": {
      "text/html": [
       "<div>\n",
       "<style scoped>\n",
       "    .dataframe tbody tr th:only-of-type {\n",
       "        vertical-align: middle;\n",
       "    }\n",
       "\n",
       "    .dataframe tbody tr th {\n",
       "        vertical-align: top;\n",
       "    }\n",
       "\n",
       "    .dataframe thead th {\n",
       "        text-align: right;\n",
       "    }\n",
       "</style>\n",
       "<table border=\"1\" class=\"dataframe\">\n",
       "  <thead>\n",
       "    <tr style=\"text-align: right;\">\n",
       "      <th></th>\n",
       "      <th>rating</th>\n",
       "      <th>clean</th>\n",
       "    </tr>\n",
       "  </thead>\n",
       "  <tbody>\n",
       "    <tr>\n",
       "      <th>0</th>\n",
       "      <td>0</td>\n",
       "      <td>of them and on of the item is bad qualiti is m...</td>\n",
       "    </tr>\n",
       "    <tr>\n",
       "      <th>1</th>\n",
       "      <td>0</td>\n",
       "      <td>alwai the less expens wai to go for product like</td>\n",
       "    </tr>\n",
       "    <tr>\n",
       "      <th>2</th>\n",
       "      <td>1</td>\n",
       "      <td>ar not duracel but for the price i am happi</td>\n",
       "    </tr>\n",
       "    <tr>\n",
       "      <th>3</th>\n",
       "      <td>1</td>\n",
       "      <td>as well as name brand batteri at a much better</td>\n",
       "    </tr>\n",
       "    <tr>\n",
       "      <th>4</th>\n",
       "      <td>1</td>\n",
       "      <td>batteri ar veri long last the price is great</td>\n",
       "    </tr>\n",
       "    <tr>\n",
       "      <th>5</th>\n",
       "      <td>1</td>\n",
       "      <td>batteri for christma and the amazonbas cell ha...</td>\n",
       "    </tr>\n",
       "    <tr>\n",
       "      <th>6</th>\n",
       "      <td>1</td>\n",
       "      <td>batteri have order them in the past been veri ...</td>\n",
       "    </tr>\n",
       "    <tr>\n",
       "      <th>7</th>\n",
       "      <td>1</td>\n",
       "      <td>batteri that last quit a while then these ar p...</td>\n",
       "    </tr>\n",
       "    <tr>\n",
       "      <th>8</th>\n",
       "      <td>0</td>\n",
       "      <td>do not hold the amount of high power juic like...</td>\n",
       "    </tr>\n",
       "    <tr>\n",
       "      <th>9</th>\n",
       "      <td>0</td>\n",
       "      <td>done well by me appear to have a good shelf life</td>\n",
       "    </tr>\n",
       "    <tr>\n",
       "      <th>10</th>\n",
       "      <td>1</td>\n",
       "      <td>find amazon basic batteri to be equal if not s...</td>\n",
       "    </tr>\n",
       "    <tr>\n",
       "      <th>11</th>\n",
       "      <td>0</td>\n",
       "      <td>first start get the amazon basic batteri i rea...</td>\n",
       "    </tr>\n",
       "    <tr>\n",
       "      <th>12</th>\n",
       "      <td>1</td>\n",
       "      <td>for my fish tank s light at night and work gre...</td>\n",
       "    </tr>\n",
       "    <tr>\n",
       "      <th>13</th>\n",
       "      <td>1</td>\n",
       "      <td>got em so i can t realli comment on how good t...</td>\n",
       "    </tr>\n",
       "    <tr>\n",
       "      <th>14</th>\n",
       "      <td>1</td>\n",
       "      <td>have mani thing that need aa batteri thei ar g...</td>\n",
       "    </tr>\n",
       "    <tr>\n",
       "      <th>15</th>\n",
       "      <td>1</td>\n",
       "      <td>i wa abl to find on amazon for a great price a...</td>\n",
       "    </tr>\n",
       "    <tr>\n",
       "      <th>16</th>\n",
       "      <td>0</td>\n",
       "      <td>know if i would bui thu brand again seem like ...</td>\n",
       "    </tr>\n",
       "    <tr>\n",
       "      <th>17</th>\n",
       "      <td>0</td>\n",
       "      <td>last anywher near as long as duracel in thing ...</td>\n",
       "    </tr>\n",
       "    <tr>\n",
       "      <th>18</th>\n",
       "      <td>0</td>\n",
       "      <td>last as long as the brand name but ar good eno...</td>\n",
       "    </tr>\n",
       "    <tr>\n",
       "      <th>19</th>\n",
       "      <td>0</td>\n",
       "      <td>my christma gift the month of decemb onli last...</td>\n",
       "    </tr>\n",
       "    <tr>\n",
       "      <th>20</th>\n",
       "      <td>0</td>\n",
       "      <td>my second order and thei seem to work as good ...</td>\n",
       "    </tr>\n",
       "    <tr>\n",
       "      <th>21</th>\n",
       "      <td>1</td>\n",
       "      <td>my second purchas of amazon batteri and thei w...</td>\n",
       "    </tr>\n",
       "    <tr>\n",
       "      <th>22</th>\n",
       "      <td>1</td>\n",
       "      <td>my xbox on control and none of them explod lik...</td>\n",
       "    </tr>\n",
       "    <tr>\n",
       "      <th>23</th>\n",
       "      <td>0</td>\n",
       "      <td>not last as long as other name brand name disa...</td>\n",
       "    </tr>\n",
       "    <tr>\n",
       "      <th>24</th>\n",
       "      <td>0</td>\n",
       "      <td>not last long at all veri cheap batteri no happi</td>\n",
       "    </tr>\n",
       "    <tr>\n",
       "      <th>25</th>\n",
       "      <td>0</td>\n",
       "      <td>not us yet but a batteri is a batteri good price</td>\n",
       "    </tr>\n",
       "    <tr>\n",
       "      <th>26</th>\n",
       "      <td>0</td>\n",
       "      <td>of batteri that were not as strong or were pre...</td>\n",
       "    </tr>\n",
       "    <tr>\n",
       "      <th>27</th>\n",
       "      <td>1</td>\n",
       "      <td>order these a few time caus we ve been so happ...</td>\n",
       "    </tr>\n",
       "    <tr>\n",
       "      <th>28</th>\n",
       "      <td>1</td>\n",
       "      <td>them but hopefulli all of them will remain in ...</td>\n",
       "    </tr>\n",
       "    <tr>\n",
       "      <th>29</th>\n",
       "      <td>0</td>\n",
       "      <td>there to fit the light when thei arriv and nic...</td>\n",
       "    </tr>\n",
       "    <tr>\n",
       "      <th>...</th>\n",
       "      <td>...</td>\n",
       "      <td>...</td>\n",
       "    </tr>\n",
       "    <tr>\n",
       "      <th>28302</th>\n",
       "      <td>1</td>\n",
       "      <td>work great</td>\n",
       "    </tr>\n",
       "    <tr>\n",
       "      <th>28303</th>\n",
       "      <td>1</td>\n",
       "      <td>work great</td>\n",
       "    </tr>\n",
       "    <tr>\n",
       "      <th>28304</th>\n",
       "      <td>0</td>\n",
       "      <td>work great</td>\n",
       "    </tr>\n",
       "    <tr>\n",
       "      <th>28305</th>\n",
       "      <td>1</td>\n",
       "      <td>work great</td>\n",
       "    </tr>\n",
       "    <tr>\n",
       "      <th>28306</th>\n",
       "      <td>1</td>\n",
       "      <td>work great</td>\n",
       "    </tr>\n",
       "    <tr>\n",
       "      <th>28307</th>\n",
       "      <td>1</td>\n",
       "      <td>work great</td>\n",
       "    </tr>\n",
       "    <tr>\n",
       "      <th>28308</th>\n",
       "      <td>1</td>\n",
       "      <td>work great for class</td>\n",
       "    </tr>\n",
       "    <tr>\n",
       "      <th>28309</th>\n",
       "      <td>0</td>\n",
       "      <td>work great for my yr old</td>\n",
       "    </tr>\n",
       "    <tr>\n",
       "      <th>28310</th>\n",
       "      <td>1</td>\n",
       "      <td>work great for my dad</td>\n",
       "    </tr>\n",
       "    <tr>\n",
       "      <th>28311</th>\n",
       "      <td>1</td>\n",
       "      <td>work great for what i need</td>\n",
       "    </tr>\n",
       "    <tr>\n",
       "      <th>28312</th>\n",
       "      <td>0</td>\n",
       "      <td>work great but</td>\n",
       "    </tr>\n",
       "    <tr>\n",
       "      <th>28313</th>\n",
       "      <td>1</td>\n",
       "      <td>work great</td>\n",
       "    </tr>\n",
       "    <tr>\n",
       "      <th>28314</th>\n",
       "      <td>1</td>\n",
       "      <td>work grood</td>\n",
       "    </tr>\n",
       "    <tr>\n",
       "      <th>28315</th>\n",
       "      <td>1</td>\n",
       "      <td>work pretti good for a great price</td>\n",
       "    </tr>\n",
       "    <tr>\n",
       "      <th>28316</th>\n",
       "      <td>1</td>\n",
       "      <td>work veri well much better than the old fire</td>\n",
       "    </tr>\n",
       "    <tr>\n",
       "      <th>28317</th>\n",
       "      <td>0</td>\n",
       "      <td>work well</td>\n",
       "    </tr>\n",
       "    <tr>\n",
       "      <th>28318</th>\n",
       "      <td>0</td>\n",
       "      <td>work well but too ti to amazon</td>\n",
       "    </tr>\n",
       "    <tr>\n",
       "      <th>28319</th>\n",
       "      <td>0</td>\n",
       "      <td>work well but need better parent option</td>\n",
       "    </tr>\n",
       "    <tr>\n",
       "      <th>28320</th>\n",
       "      <td>0</td>\n",
       "      <td>worlk as advertis</td>\n",
       "    </tr>\n",
       "    <tr>\n",
       "      <th>28321</th>\n",
       "      <td>1</td>\n",
       "      <td>worth everi dime</td>\n",
       "    </tr>\n",
       "    <tr>\n",
       "      <th>28322</th>\n",
       "      <td>0</td>\n",
       "      <td>worth have the product to kid</td>\n",
       "    </tr>\n",
       "    <tr>\n",
       "      <th>28323</th>\n",
       "      <td>0</td>\n",
       "      <td>worth it</td>\n",
       "    </tr>\n",
       "    <tr>\n",
       "      <th>28324</th>\n",
       "      <td>0</td>\n",
       "      <td>would bui again</td>\n",
       "    </tr>\n",
       "    <tr>\n",
       "      <th>28325</th>\n",
       "      <td>1</td>\n",
       "      <td>wow over the top happi</td>\n",
       "    </tr>\n",
       "    <tr>\n",
       "      <th>28326</th>\n",
       "      <td>1</td>\n",
       "      <td>wow</td>\n",
       "    </tr>\n",
       "    <tr>\n",
       "      <th>28327</th>\n",
       "      <td>1</td>\n",
       "      <td>xma gift</td>\n",
       "    </tr>\n",
       "    <tr>\n",
       "      <th>28328</th>\n",
       "      <td>0</td>\n",
       "      <td>ye it is a great tablet</td>\n",
       "    </tr>\n",
       "    <tr>\n",
       "      <th>28329</th>\n",
       "      <td>1</td>\n",
       "      <td>you get a lot for the price</td>\n",
       "    </tr>\n",
       "    <tr>\n",
       "      <th>28330</th>\n",
       "      <td>1</td>\n",
       "      <td>you get the entir world for less than</td>\n",
       "    </tr>\n",
       "    <tr>\n",
       "      <th>28331</th>\n",
       "      <td>0</td>\n",
       "      <td>you get what your pai for</td>\n",
       "    </tr>\n",
       "  </tbody>\n",
       "</table>\n",
       "<p>28332 rows × 2 columns</p>\n",
       "</div>"
      ],
      "text/plain": [
       "       rating                                              clean\n",
       "0           0  of them and on of the item is bad qualiti is m...\n",
       "1           0   alwai the less expens wai to go for product like\n",
       "2           1        ar not duracel but for the price i am happi\n",
       "3           1     as well as name brand batteri at a much better\n",
       "4           1       batteri ar veri long last the price is great\n",
       "5           1  batteri for christma and the amazonbas cell ha...\n",
       "6           1  batteri have order them in the past been veri ...\n",
       "7           1  batteri that last quit a while then these ar p...\n",
       "8           0  do not hold the amount of high power juic like...\n",
       "9           0   done well by me appear to have a good shelf life\n",
       "10          1  find amazon basic batteri to be equal if not s...\n",
       "11          0  first start get the amazon basic batteri i rea...\n",
       "12          1  for my fish tank s light at night and work gre...\n",
       "13          1  got em so i can t realli comment on how good t...\n",
       "14          1  have mani thing that need aa batteri thei ar g...\n",
       "15          1  i wa abl to find on amazon for a great price a...\n",
       "16          0  know if i would bui thu brand again seem like ...\n",
       "17          0  last anywher near as long as duracel in thing ...\n",
       "18          0  last as long as the brand name but ar good eno...\n",
       "19          0  my christma gift the month of decemb onli last...\n",
       "20          0  my second order and thei seem to work as good ...\n",
       "21          1  my second purchas of amazon batteri and thei w...\n",
       "22          1  my xbox on control and none of them explod lik...\n",
       "23          0  not last as long as other name brand name disa...\n",
       "24          0   not last long at all veri cheap batteri no happi\n",
       "25          0   not us yet but a batteri is a batteri good price\n",
       "26          0  of batteri that were not as strong or were pre...\n",
       "27          1  order these a few time caus we ve been so happ...\n",
       "28          1  them but hopefulli all of them will remain in ...\n",
       "29          0  there to fit the light when thei arriv and nic...\n",
       "...       ...                                                ...\n",
       "28302       1                                         work great\n",
       "28303       1                                         work great\n",
       "28304       0                                         work great\n",
       "28305       1                                         work great\n",
       "28306       1                                         work great\n",
       "28307       1                                         work great\n",
       "28308       1                               work great for class\n",
       "28309       0                           work great for my yr old\n",
       "28310       1                              work great for my dad\n",
       "28311       1                         work great for what i need\n",
       "28312       0                                     work great but\n",
       "28313       1                                         work great\n",
       "28314       1                                         work grood\n",
       "28315       1                 work pretti good for a great price\n",
       "28316       1       work veri well much better than the old fire\n",
       "28317       0                                          work well\n",
       "28318       0                     work well but too ti to amazon\n",
       "28319       0            work well but need better parent option\n",
       "28320       0                                  worlk as advertis\n",
       "28321       1                                   worth everi dime\n",
       "28322       0                      worth have the product to kid\n",
       "28323       0                                           worth it\n",
       "28324       0                                    would bui again\n",
       "28325       1                             wow over the top happi\n",
       "28326       1                                                wow\n",
       "28327       1                                           xma gift\n",
       "28328       0                            ye it is a great tablet\n",
       "28329       1                        you get a lot for the price\n",
       "28330       1              you get the entir world for less than\n",
       "28331       0                          you get what your pai for\n",
       "\n",
       "[28332 rows x 2 columns]"
      ]
     },
     "execution_count": 57,
     "metadata": {},
     "output_type": "execute_result"
    }
   ],
   "source": [
    "y=[]\n",
    "for x in gs[\"rating\"]:\n",
    "    if x>4:\n",
    "        y.append(1)\n",
    "    else:\n",
    "      y.append(0)\n",
    "gs[\"rating\"]=y\n",
    "gs\n"
   ]
  },
  {
   "cell_type": "code",
   "execution_count": 58,
   "metadata": {
    "colab": {
     "base_uri": "https://localhost:8080/",
     "height": 68
    },
    "colab_type": "code",
    "id": "vXhET6nast6c",
    "outputId": "c01f1d30-604c-4ef1-9837-10959132a079"
   },
   "outputs": [
    {
     "data": {
      "text/plain": [
       "1    19897\n",
       "0     8435\n",
       "Name: rating, dtype: int64"
      ]
     },
     "execution_count": 58,
     "metadata": {},
     "output_type": "execute_result"
    }
   ],
   "source": [
    "gs['rating'].value_counts()"
   ]
  },
  {
   "cell_type": "markdown",
   "metadata": {},
   "source": [
    "stemmer is used to retrieve the root words from the actual for example,calling is converted into call after atemming and tokenizers are used to form a bag of words by splitting words from sentences"
   ]
  },
  {
   "cell_type": "code",
   "execution_count": 59,
   "metadata": {
    "colab": {
     "base_uri": "https://localhost:8080/",
     "height": 85
    },
    "colab_type": "code",
    "id": "gNEm-lZzu5AY",
    "outputId": "e229b1c4-e6db-42df-8584-03d96dcbee97"
   },
   "outputs": [
    {
     "name": "stderr",
     "output_type": "stream",
     "text": [
      "[nltk_data] Downloading package punkt to\n",
      "[nltk_data]     C:\\Users\\Admin\\AppData\\Roaming\\nltk_data...\n",
      "[nltk_data]   Package punkt is already up-to-date!\n",
      "[nltk_data] Downloading package stopwords to\n",
      "[nltk_data]     C:\\Users\\Admin\\AppData\\Roaming\\nltk_data...\n",
      "[nltk_data]   Package stopwords is already up-to-date!\n"
     ]
    }
   ],
   "source": [
    "import nltk\n",
    "nltk.download(\"punkt\")\n",
    "nltk.download(\"stopwords\")\n",
    "from nltk.stem import PorterStemmer \n",
    "from nltk.tokenize import RegexpTokenizer"
   ]
  },
  {
   "cell_type": "code",
   "execution_count": 0,
   "metadata": {
    "colab": {},
    "colab_type": "code",
    "id": "cfRjTSxju9el"
   },
   "outputs": [],
   "source": [
    "st=PorterStemmer()\n",
    "tk=RegexpTokenizer(r'[a-zA-z\\']+')"
   ]
  },
  {
   "cell_type": "code",
   "execution_count": 0,
   "metadata": {
    "colab": {},
    "colab_type": "code",
    "id": "2l7OmI-bvE9Y"
   },
   "outputs": [],
   "source": [
    "def tokenize(te):\n",
    "  return[stemmer.stem(word) for word in tk.tokenize(te.lower())]"
   ]
  },
  {
   "cell_type": "markdown",
   "metadata": {},
   "source": [
    "Converting tokenized data into matrix using tfidfVectorizer"
   ]
  },
  {
   "cell_type": "code",
   "execution_count": 0,
   "metadata": {
    "colab": {},
    "colab_type": "code",
    "id": "wZazkaGuvJza"
   },
   "outputs": [],
   "source": [
    "from sklearn.feature_extraction.text import TfidfVectorizer\n",
    "import pickle"
   ]
  },
  {
   "cell_type": "code",
   "execution_count": 0,
   "metadata": {
    "colab": {},
    "colab_type": "code",
    "id": "sIXBeyZhvOu8"
   },
   "outputs": [],
   "source": [
    "\n",
    "import numpy as np"
   ]
  },
  {
   "cell_type": "code",
   "execution_count": 0,
   "metadata": {
    "colab": {},
    "colab_type": "code",
    "id": "zXAP-4l_vTjp"
   },
   "outputs": [],
   "source": [
    "v=TfidfVectorizer(stop_words='english',analyzer=\"word\")\n",
    "x=v.fit(gs[\"clean\"])\n",
    "x=\"tb\"\n",
    "pickle.dump(v,open(\"tb\",\"wb\")) \n",
    "x=v.transform(gs[\"clean\"])\n",
    "Xtest=v.transform(sp[\"clean\"])"
   ]
  },
  {
   "cell_type": "code",
   "execution_count": 43,
   "metadata": {
    "colab": {
     "base_uri": "https://localhost:8080/",
     "height": 34
    },
    "colab_type": "code",
    "id": "0EwG2CDEvXjC",
    "outputId": "96253b89-d4d3-4429-feff-2f75193214b4"
   },
   "outputs": [
    {
     "data": {
      "text/plain": [
       "(20000, 2168)"
      ]
     },
     "execution_count": 43,
     "metadata": {
      "tags": []
     },
     "output_type": "execute_result"
    }
   ],
   "source": [
    "\n",
    "Xtest.shape"
   ]
  },
  {
   "cell_type": "code",
   "execution_count": 44,
   "metadata": {
    "colab": {
     "base_uri": "https://localhost:8080/",
     "height": 34
    },
    "colab_type": "code",
    "id": "TNY3d_UavmXa",
    "outputId": "5a6d3117-bc89-4bd7-b86d-80715c9f583a"
   },
   "outputs": [
    {
     "data": {
      "text/plain": [
       "(28332,)"
      ]
     },
     "execution_count": 44,
     "metadata": {
      "tags": []
     },
     "output_type": "execute_result"
    }
   ],
   "source": [
    "y=gs[\"rating\"]\n",
    "y.shape"
   ]
  },
  {
   "cell_type": "code",
   "execution_count": 0,
   "metadata": {
    "colab": {},
    "colab_type": "code",
    "id": "xwqoUaWJvrpA"
   },
   "outputs": [],
   "source": [
    "Xtrain=x\n",
    "Ytrain=y"
   ]
  },
  {
   "cell_type": "code",
   "execution_count": 47,
   "metadata": {
    "colab": {
     "base_uri": "https://localhost:8080/",
     "height": 34
    },
    "colab_type": "code",
    "id": "XiyEsL4gvzFY",
    "outputId": "40a28bb0-3767-4670-edf4-1c265d27d369"
   },
   "outputs": [
    {
     "data": {
      "text/plain": [
       "(20000,)"
      ]
     },
     "execution_count": 47,
     "metadata": {
      "tags": []
     },
     "output_type": "execute_result"
    }
   ],
   "source": [
    "Ytrain.shape\n",
    "Ytest.shape"
   ]
  },
  {
   "cell_type": "code",
   "execution_count": 48,
   "metadata": {
    "colab": {
     "base_uri": "https://localhost:8080/",
     "height": 190
    },
    "colab_type": "code",
    "id": "3lktjqUDv3pk",
    "outputId": "aad6c90f-443a-4de6-b945-2b48703ee497"
   },
   "outputs": [
    {
     "name": "stderr",
     "output_type": "stream",
     "text": [
      "/usr/local/lib/python3.6/dist-packages/sklearn/ensemble/forest.py:245: FutureWarning: The default value of n_estimators will change from 10 in version 0.20 to 100 in 0.22.\n",
      "  \"10 in version 0.20 to 100 in 0.22.\", FutureWarning)\n"
     ]
    },
    {
     "data": {
      "text/plain": [
       "RandomForestClassifier(bootstrap=True, class_weight=None, criterion='gini',\n",
       "                       max_depth=None, max_features='auto', max_leaf_nodes=None,\n",
       "                       min_impurity_decrease=0.0, min_impurity_split=None,\n",
       "                       min_samples_leaf=1, min_samples_split=2,\n",
       "                       min_weight_fraction_leaf=0.0, n_estimators=10,\n",
       "                       n_jobs=None, oob_score=False, random_state=None,\n",
       "                       verbose=0, warm_start=False)"
      ]
     },
     "execution_count": 48,
     "metadata": {
      "tags": []
     },
     "output_type": "execute_result"
    }
   ],
   "source": [
    "from sklearn.ensemble import RandomForestClassifier\n",
    "clf=RandomForestClassifier()\n",
    "clf.fit(Xtrain, Ytrain)"
   ]
  },
  {
   "cell_type": "code",
   "execution_count": 0,
   "metadata": {
    "colab": {},
    "colab_type": "code",
    "id": "Jg_VjaeRw-8o"
   },
   "outputs": [],
   "source": [
    "from sklearn.metrics import accuracy_score\n"
   ]
  },
  {
   "cell_type": "code",
   "execution_count": 0,
   "metadata": {
    "colab": {},
    "colab_type": "code",
    "id": "WUiuJLp2xGqF"
   },
   "outputs": [],
   "source": [
    "\n",
    "y=clf.predict(Xtest)"
   ]
  },
  {
   "cell_type": "code",
   "execution_count": 51,
   "metadata": {
    "colab": {
     "base_uri": "https://localhost:8080/",
     "height": 34
    },
    "colab_type": "code",
    "id": "SQeW-g7pxMxF",
    "outputId": "ecbc64d2-a933-4922-8dfd-8b68ebbf13b7"
   },
   "outputs": [
    {
     "data": {
      "text/plain": [
       "0.7615"
      ]
     },
     "execution_count": 51,
     "metadata": {
      "tags": []
     },
     "output_type": "execute_result"
    }
   ],
   "source": [
    "accuracy_score(Ytest,y,normalize=True)"
   ]
  },
  {
   "cell_type": "code",
   "execution_count": 53,
   "metadata": {
    "colab": {
     "base_uri": "https://localhost:8080/",
     "height": 34
    },
    "colab_type": "code",
    "id": "McC2jFYYxwso",
    "outputId": "bddf7f9a-304e-4f53-ebfe-55374ac71e62"
   },
   "outputs": [
    {
     "name": "stdout",
     "output_type": "stream",
     "text": [
      "negative\n"
     ]
    }
   ],
   "source": [
    "#can be used to check the model\n",
    "\n",
    "c=np.array([\"it is not good product\"])\n",
    "def clean(string):\n",
    "  words=preprocess_string(string,filters)\n",
    "  return \" \".join(word.lower() for word in words)\n",
    "clean(c)\n",
    "def tokenize(te):\n",
    "  return[stemmer.stem(word) for word in tk.tokenize(te.lower())]\n",
    "g=v.transform(c)\n",
    "r=clf.predict(g)\n",
    "if r==1:\n",
    "  print(\"positive\")\n",
    "else:\n",
    "  print(\"negative\")"
   ]
  },
  {
   "cell_type": "markdown",
   "metadata": {},
   "source": [
    "saving the randomforest model for API"
   ]
  },
  {
   "cell_type": "code",
   "execution_count": 0,
   "metadata": {
    "colab": {},
    "colab_type": "code",
    "id": "-0nAqXXAx6tZ"
   },
   "outputs": [],
   "source": [
    "import pickle"
   ]
  },
  {
   "cell_type": "code",
   "execution_count": 0,
   "metadata": {
    "colab": {},
    "colab_type": "code",
    "id": "roJHswkByB09"
   },
   "outputs": [],
   "source": [
    "g=\"file\""
   ]
  },
  {
   "cell_type": "code",
   "execution_count": 0,
   "metadata": {
    "colab": {},
    "colab_type": "code",
    "id": "Nu9yHnekyGNA"
   },
   "outputs": [],
   "source": [
    "pickle.dump(clf,open(\"g\",\"wb\"))"
   ]
  },
  {
   "cell_type": "code",
   "execution_count": 0,
   "metadata": {
    "colab": {},
    "colab_type": "code",
    "id": "JeqwwZ0syMWA"
   },
   "outputs": [],
   "source": []
  }
 ],
 "metadata": {
  "colab": {
   "name": "2nd task.ipynb",
   "provenance": [],
   "version": "0.3.2"
  },
  "kernelspec": {
   "display_name": "Python 3",
   "language": "python",
   "name": "python3"
  },
  "language_info": {
   "codemirror_mode": {
    "name": "ipython",
    "version": 3
   },
   "file_extension": ".py",
   "mimetype": "text/x-python",
   "name": "python",
   "nbconvert_exporter": "python",
   "pygments_lexer": "ipython3",
   "version": "3.7.4"
  }
 },
 "nbformat": 4,
 "nbformat_minor": 1
}
